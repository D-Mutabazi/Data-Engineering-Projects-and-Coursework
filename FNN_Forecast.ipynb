{
 "cells": [
  {
   "cell_type": "markdown",
   "metadata": {},
   "source": [
    "# Import necessary packages"
   ]
  },
  {
   "cell_type": "code",
   "execution_count": 2,
   "metadata": {},
   "outputs": [
    {
     "name": "stdout",
     "output_type": "stream",
     "text": [
      "2.4.0+cpu\n"
     ]
    }
   ],
   "source": [
    "import torch\n",
    "print(torch.__version__)\n"
   ]
  },
  {
   "cell_type": "code",
   "execution_count": 13,
   "metadata": {},
   "outputs": [
    {
     "name": "stdout",
     "output_type": "stream",
     "text": [
      "product 1: tensor([[ 3,  4, 10],\n",
      "        [ 2,  4,  6]])\n",
      "\n",
      "product 2: tensor([[ 5,  5,  8],\n",
      "        [ 8,  8, 12],\n",
      "        [11, 11, 16]])\n"
     ]
    }
   ],
   "source": [
    "A = torch.tensor([[3 ,4, 5],[1, 2, 3]])\n",
    "B = torch.tensor([[1, 1, 2], [2,2,2]])\n",
    "\n",
    "\n",
    "prod_tensor = A*B\n",
    "\n",
    "print(f'product 1: {prod_tensor}\\n') # element wise\n",
    "print(f'product 2: {A.T.mm(B)}') # matrix\n",
    "\n",
    "\n",
    "\n",
    "#"
   ]
  }
 ],
 "metadata": {
  "kernelspec": {
   "display_name": "Python 3 (ipykernel)",
   "language": "python",
   "name": "python3"
  },
  "language_info": {
   "codemirror_mode": {
    "name": "ipython",
    "version": 3
   },
   "file_extension": ".py",
   "mimetype": "text/x-python",
   "name": "python",
   "nbconvert_exporter": "python",
   "pygments_lexer": "ipython3",
   "version": "3.10.12"
  }
 },
 "nbformat": 4,
 "nbformat_minor": 2
}
